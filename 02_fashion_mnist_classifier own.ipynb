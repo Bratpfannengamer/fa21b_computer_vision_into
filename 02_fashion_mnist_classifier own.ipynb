{
 "cells": [
  {
   "cell_type": "code",
   "execution_count": 3,
   "metadata": {},
   "outputs": [],
   "source": [
    "import torch\n",
    "import pickle\n",
    "from torch import nn\n",
    "import gzip\n",
    "import numpy as np"
   ]
  },
  {
   "cell_type": "code",
   "execution_count": 4,
   "metadata": {
    "collapsed": false
   },
   "outputs": [],
   "source": [
    "path=\"fashion_data/\"\n",
    "\n",
    "label_file=gzip.open(path + 'train-labels-idx1-ubyte.gz')\n",
    "y_train= np.frombuffer(label_file.read(), dtype=np.uint8, offset=8)\n",
    "\n",
    "image_file=gzip.open(path + 'train-images-idx3-ubyte.gz', 'rb')\n",
    "x_train= np.frombuffer(image_file.read(), dtype=np.uint8, offset=16).reshape(len(y_train), 784)\n",
    "\n",
    "valid_label_file=gzip.open(path + 't10k-labels-idx1-ubyte.gz')\n",
    "y_valid= np.frombuffer(valid_label_file.read(), dtype=np.uint8, offset=8)\n",
    "\n",
    "valid_image_file=gzip.open(path + 't10k-images-idx3-ubyte.gz', 'rb')\n",
    "x_valid= np.frombuffer(valid_image_file.read(), dtype=np.uint8, offset=16).reshape(len(y_valid), 784)"
   ]
  },
  {
   "cell_type": "code",
   "execution_count": 5,
   "metadata": {},
   "outputs": [],
   "source": [
    "x_train = torch.tensor(x_train, dtype=torch.float)\n",
    "x_test = torch.tensor(x_valid, dtype=torch.float)\n",
    "y_train = torch.tensor(y_train, dtype=torch.long)\n",
    "y_test= torch.tensor(y_valid, dtype=torch.long)"
   ]
  },
  {
   "cell_type": "code",
   "execution_count": 6,
   "metadata": {
    "collapsed": false
   },
   "outputs": [
    {
     "data": {
      "text/plain": [
       "<matplotlib.image.AxesImage at 0x7f6a9a2a3f70>"
      ]
     },
     "execution_count": 6,
     "metadata": {},
     "output_type": "execute_result"
    },
    {
     "data": {
      "image/png": "[encoded data removed]",
      "text/plain": [
       "<Figure size 640x480 with 1 Axes>"
      ]
     },
     "metadata": {},
     "output_type": "display_data"
    }
   ],
   "source": [
    "import matplotlib.pyplot as plt\n",
    "\n",
    "plt.imshow(x_train[0].reshape(28, 28), cmap='gray')"
   ]
  },
  {
   "cell_type": "code",
   "execution_count": 7,
   "metadata": {
    "collapsed": false
   },
   "outputs": [
    {
     "data": {
      "text/plain": [
       "tensor(9)"
      ]
     },
     "execution_count": 7,
     "metadata": {},
     "output_type": "execute_result"
    }
   ],
   "source": [
    "y_train[0]"
   ]
  },
  {
   "cell_type": "markdown",
   "metadata": {
    "collapsed": false
   },
   "source": [
    "Each training and test example is assigned to one of the following labels:\n",
    "\n",
    "- 0 T-shirt/top\n",
    "- 1\tTrouser\n",
    "- 2\tPullover\n",
    "- 3\tDress\n",
    "- 4\tCoat\n",
    "- 5\tSandal\n",
    "- 6\tShirt\n",
    "- 7\tSneaker\n",
    "- 8\tBag\n",
    "- 9\tAnkle boot"
   ]
  },
  {
   "cell_type": "code",
   "execution_count": 8,
   "metadata": {
    "collapsed": false
   },
   "outputs": [
    {
     "data": {
      "text/plain": [
       "torch.Size([784])"
      ]
     },
     "execution_count": 8,
     "metadata": {},
     "output_type": "execute_result"
    }
   ],
   "source": [
    "x_train[0].shape"
   ]
  },
  {
   "cell_type": "code",
   "execution_count": 9,
   "metadata": {},
   "outputs": [],
   "source": [
    "class MySimpleNN(torch.nn.Module):   # MySimpleNN erbt von torch.nn.Module\n",
    "\n",
    "    # Constructor\n",
    "    def __init__(self,input_size=11,hidden_size=(10,20,10),output_size=1):\n",
    "        # Aufruf des Superkonstruktors von torch.nn.Module\n",
    "        super(MySimpleNN, self).__init__()\n",
    "        # Definition der Schichten\n",
    "        #definiert die Anzahl der Neuronen in den Schichten\n",
    "        self.fc1 = torch.nn.Linear(input_size, hidden_size[0])\n",
    "        self.fc2 = torch.nn.Linear(hidden_size[0], hidden_size[1])\n",
    "        self.fc3 = torch.nn.Linear(hidden_size[1], hidden_size[2])\n",
    "        self.fc4 = torch.nn.Linear(hidden_size[2], output_size)\n",
    "\n",
    "        # Batch Normalization\n",
    "        # 70, 120, 30 sind die Anzahl der Neuronen in den Schichten\n",
    "        self.bn1 = torch.nn.BatchNorm1d(hidden_size[0])\n",
    "        self.bn2 = torch.nn.BatchNorm1d(hidden_size[1])\n",
    "        self.bn3 = torch.nn.BatchNorm1d(hidden_size[2])\n",
    "    # forward Methode -> Forward Propagation\n",
    "    # wenn ich später ein Objekt von MySimpleNN erzeuge, dann kann ich\n",
    "    # dieses Objekt mit einem Tensor aufrufen, dann wird die forward Methode\n",
    "    # aufgerufen. z.B. model(x_train)\n",
    "    def forward(self, xb):   # xb steht für eine Batch von X-Werten\n",
    "        #print(\"xb\", xb.shape)\n",
    "        z2 = self.fc1(xb)  # dahinter steckt x@w1 + b1\n",
    "        a2 = torch.relu(z2)    # alle negativen Werte werden auf 0 gesetzt, der Rest bleibt\n",
    "        #print(\"a2\", a2.shape)\n",
    "        a2_bn = self.bn1(a2) # Normalisierung der Werte auf den Neuronen\n",
    "        #print(\"a2_bn\", a2_bn.shape)\n",
    "        z3 = self.fc2(a2_bn) # dahinter steckt a2@w2 + b2\n",
    "        #print(\"z3\", z3.shape)\n",
    "        a3 = torch.relu(z3)\n",
    "        #print(\"a3\", a3.shape)\n",
    "        a3_bn = self.bn2(a3)\n",
    "        #print(\"a3_bn\", a3_bn.shape)\n",
    "        z4 = self.fc3(a3_bn)\n",
    "        #print(\"z4\", z4.shape)\n",
    "        a4 = torch.relu(z4)\n",
    "        #print(\"a4\", a4.shape)\n",
    "        a4_bn = self.bn3(a4)\n",
    "        #print(\"a4_bn\", a4_bn.shape)\n",
    "        y_hat = torch.relu(self.fc4(a4_bn))\n",
    "        #print(\"y_hat\", y_hat.shape)\n",
    "        return y_hat"
   ]
  },
  {
   "cell_type": "code",
   "execution_count": 10,
   "metadata": {},
   "outputs": [],
   "source": [
    "def get_batch(x, y, batch_size):\n",
    "    # z.B. range(0, 10, 3) --> 0, 3, 6, 9\n",
    "    # range(start, stop, step)\n",
    "    for i in range(0, len(x), batch_size):\n",
    "        # yield: gibt den Wert zurück, aber merkt sich den aktuellen Zustand\n",
    "        yield x[i:i+batch_size], y[i:i+batch_size]\n",
    "\n",
    "# returns argmax\n",
    "def get_prediction(output):\n",
    "    return torch.argmax(output, dim=1)"
   ]
  },
  {
   "cell_type": "code",
   "execution_count": 11,
   "metadata": {},
   "outputs": [
    {
     "name": "stdout",
     "output_type": "stream",
     "text": [
      "Epoch 00171: reducing learning rate of group 0 to 1.0000e-05.\n"
     ]
    },
    {
     "data": {
      "text/plain": [
       "[<matplotlib.lines.Line2D at 0x7f6a9800e920>]"
      ]
     },
     "execution_count": 11,
     "metadata": {},
     "output_type": "execute_result"
    },
    {
     "data": {
      "image/png": "[encoded data removed]",
      "text/plain": [
       "<Figure size 640x480 with 1 Axes>"
      ]
     },
     "metadata": {},
     "output_type": "display_data"
    }
   ],
   "source": [
    "# eigenes Modell wird erstellt\n",
    "model = MySimpleNN(input_size=784, hidden_size=(70,120,30),output_size=10)\n",
    "lr=0.0001\n",
    "# trainiere immer mit 10 Datensätzen auf einmal\n",
    "batch_size=40\n",
    "\n",
    "# loss function\n",
    "# Mean Squared Error\n",
    "# die Lossfunction von Pytorch müssen erstmal erstellt werden mit ()\n",
    "loss_fn = nn.CrossEntropyLoss()\n",
    "optemizer = torch.optim.Adam(model.parameters(), lr=lr,weight_decay=0.0001)\n",
    "scheduler = torch.optim.lr_scheduler.ReduceLROnPlateau(optemizer, mode='min', factor=0.1, patience=10, verbose=True, threshold=0.0001)\n",
    "\n",
    "def train(xb, yb):\n",
    "    y_hat=model(xb)\n",
    "    loss = loss_fn(y_hat, yb)\n",
    "    loss.backward()\n",
    "    optemizer.step()\n",
    "    return loss.item()\n",
    "\n",
    "losses=[]\n",
    "for epoch in range(200):\n",
    "    loss_sum=0\n",
    "    # Iteration über alle Batches\n",
    "    for xb, yb in get_batch(x_train, y_train, batch_size):\n",
    "        loss_sum += train(xb, yb)\n",
    "    losses.append(loss_sum/len(x_train))\n",
    "    scheduler.step(losses[-1])\n",
    "#plot\n",
    "plt.plot(losses)"
   ]
  },
  {
   "cell_type": "code",
   "execution_count": 16,
   "metadata": {},
   "outputs": [
    {
     "name": "stdout",
     "output_type": "stream",
     "text": [
      "mean error: tensor(0.8771)\n"
     ]
    }
   ],
   "source": [
    "#calculate mean error\n",
    "error_list=[]\n",
    "\n",
    "y_pred=get_prediction(model(x_test))\n",
    "correct=sum(y_pred==y_test)\n",
    "\n",
    "print(\"mean error:\", correct/len(y_test))"
   ]
  }
 ],
 "metadata": {
  "kernelspec": {
   "display_name": "Python 3",
   "language": "python",
   "name": "python3"
  },
  "language_info": {
   "codemirror_mode": {
    "name": "ipython",
    "version": 3
   },
   "file_extension": ".py",
   "mimetype": "text/x-python",
   "name": "python",
   "nbconvert_exporter": "python",
   "pygments_lexer": "ipython3",
   "version": "3.10.9"
  }
 },
 "nbformat": 4,
 "nbformat_minor": 0
}
